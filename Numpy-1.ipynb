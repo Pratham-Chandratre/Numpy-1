{
 "cells": [
  {
   "cell_type": "code",
   "execution_count": 1,
   "id": "3a629ad8-5c5b-43df-bc1d-6a7067eee199",
   "metadata": {},
   "outputs": [],
   "source": [
    "# Numpy means numerical python it is complete mathematical package. It has crated for array amd matrix manipulation"
   ]
  },
  {
   "cell_type": "code",
   "execution_count": 2,
   "id": "fb7bc083-4d31-407c-b7b1-beab5d42dc4d",
   "metadata": {},
   "outputs": [],
   "source": [
    "import numpy as np"
   ]
  },
  {
   "cell_type": "code",
   "execution_count": 3,
   "id": "4c7d6247-772f-498b-942d-272834ac3ed2",
   "metadata": {},
   "outputs": [],
   "source": [
    "l = [1,2,3,4,5]"
   ]
  },
  {
   "cell_type": "code",
   "execution_count": 4,
   "id": "9d651986-ab4f-4405-8576-e70a7605fb03",
   "metadata": {},
   "outputs": [],
   "source": [
    "# Converting list to array\n",
    "\n",
    "arr = np.array(l)"
   ]
  },
  {
   "cell_type": "code",
   "execution_count": 5,
   "id": "5245618e-ba4c-4a70-8941-f82ce2c84a85",
   "metadata": {},
   "outputs": [
    {
     "data": {
      "text/plain": [
       "array([1, 2, 3, 4, 5])"
      ]
     },
     "execution_count": 5,
     "metadata": {},
     "output_type": "execute_result"
    }
   ],
   "source": [
    "arr"
   ]
  },
  {
   "cell_type": "code",
   "execution_count": 6,
   "id": "2eeac09a-5c34-46c4-b793-28b404cbd3fd",
   "metadata": {},
   "outputs": [
    {
     "data": {
      "text/plain": [
       "numpy.ndarray"
      ]
     },
     "execution_count": 6,
     "metadata": {},
     "output_type": "execute_result"
    }
   ],
   "source": [
    "type(arr)"
   ]
  },
  {
   "cell_type": "code",
   "execution_count": 7,
   "id": "871fbd28-4ebe-4db6-91f5-3d0258900e97",
   "metadata": {},
   "outputs": [],
   "source": [
    "# type is ndarray which is n dimensional array"
   ]
  },
  {
   "cell_type": "code",
   "execution_count": 8,
   "id": "633bf052-2fd2-48a9-9dc0-e18ea93429b9",
   "metadata": {},
   "outputs": [
    {
     "data": {
      "text/plain": [
       "array([1, 2, 3, 4, 5])"
      ]
     },
     "execution_count": 8,
     "metadata": {},
     "output_type": "execute_result"
    }
   ],
   "source": [
    "np.asarray(l)  # With this also we can create an array"
   ]
  },
  {
   "cell_type": "code",
   "execution_count": 9,
   "id": "e2f72b6a-92a6-4daa-9d7a-6a583c56de93",
   "metadata": {},
   "outputs": [],
   "source": [
    "arr1 = np.array([[1,2,3], [4,5,6]])  # It will convert this array into 2 dimensional array"
   ]
  },
  {
   "cell_type": "code",
   "execution_count": 10,
   "id": "216a01db-3336-4875-b903-17b8701d6d99",
   "metadata": {},
   "outputs": [
    {
     "data": {
      "text/plain": [
       "array([[1, 2, 3],\n",
       "       [4, 5, 6]])"
      ]
     },
     "execution_count": 10,
     "metadata": {},
     "output_type": "execute_result"
    }
   ],
   "source": [
    "arr1"
   ]
  },
  {
   "cell_type": "code",
   "execution_count": 11,
   "id": "76131ef4-0b20-4138-b6de-e6537ff7ecc0",
   "metadata": {},
   "outputs": [
    {
     "data": {
      "text/plain": [
       "2"
      ]
     },
     "execution_count": 11,
     "metadata": {},
     "output_type": "execute_result"
    }
   ],
   "source": [
    "# Checking dimension of arr\n",
    "\n",
    "arr1.ndim"
   ]
  },
  {
   "cell_type": "code",
   "execution_count": 12,
   "id": "1ac106d5-1457-4c28-9f0d-e7ac10b017ef",
   "metadata": {},
   "outputs": [],
   "source": [
    "# Visualization of 2d-array\n",
    "\n",
    "# on x axis col. number and on y axis row no.\n",
    "\n",
    "# 1,2,3 will be on row 0 and 4,5,6 on row 1 and there will be 3 cols."
   ]
  },
  {
   "cell_type": "code",
   "execution_count": 13,
   "id": "6ddca987-3b2c-4543-9ba7-5d561d6391c3",
   "metadata": {},
   "outputs": [],
   "source": [
    "# matrix function\n",
    "\n",
    "m1 = np.matrix(l)"
   ]
  },
  {
   "cell_type": "code",
   "execution_count": 14,
   "id": "c92eb047-453b-4f6f-be80-4aef1cf12329",
   "metadata": {},
   "outputs": [
    {
     "data": {
      "text/plain": [
       "matrix([[1, 2, 3, 4, 5]])"
      ]
     },
     "execution_count": 14,
     "metadata": {},
     "output_type": "execute_result"
    }
   ],
   "source": [
    "m1"
   ]
  },
  {
   "cell_type": "code",
   "execution_count": 15,
   "id": "ea96137e-e5ca-414f-bcd5-edcafea511c7",
   "metadata": {},
   "outputs": [
    {
     "data": {
      "text/plain": [
       "2"
      ]
     },
     "execution_count": 15,
     "metadata": {},
     "output_type": "execute_result"
    }
   ],
   "source": [
    "m1.ndim"
   ]
  },
  {
   "cell_type": "code",
   "execution_count": 16,
   "id": "9f981f50-d367-483d-a887-4296fe6b956b",
   "metadata": {},
   "outputs": [],
   "source": [
    "# matrix will be of min 2 dimension but array can also be 1 dimension"
   ]
  },
  {
   "cell_type": "code",
   "execution_count": 17,
   "id": "27b31aab-3a9d-4475-9f5b-19c711cfbac0",
   "metadata": {},
   "outputs": [
    {
     "data": {
      "text/plain": [
       "array([1, 2, 3, 4, 5])"
      ]
     },
     "execution_count": 17,
     "metadata": {},
     "output_type": "execute_result"
    }
   ],
   "source": [
    "np.asanyarray(l)"
   ]
  },
  {
   "cell_type": "code",
   "execution_count": 18,
   "id": "081fe403-f3d2-432d-8003-b9cc0b15f53d",
   "metadata": {},
   "outputs": [
    {
     "data": {
      "text/plain": [
       "matrix([[1, 2, 3, 4, 5]])"
      ]
     },
     "execution_count": 18,
     "metadata": {},
     "output_type": "execute_result"
    }
   ],
   "source": [
    "# If we pass matrix in this function\n",
    "\n",
    "np.asanyarray(m1)"
   ]
  },
  {
   "cell_type": "code",
   "execution_count": 19,
   "id": "4465ac8d-d32d-4c75-8111-742c6ba2c3d0",
   "metadata": {},
   "outputs": [],
   "source": [
    "# No change because asanyarray will convert it to array but as matrix is form of array so it will remain same "
   ]
  },
  {
   "cell_type": "code",
   "execution_count": 20,
   "id": "e1469360-6028-41e5-9413-11dd69670f20",
   "metadata": {},
   "outputs": [
    {
     "data": {
      "text/plain": [
       "array([1, 2, 3, 4, 5])"
      ]
     },
     "execution_count": 20,
     "metadata": {},
     "output_type": "execute_result"
    }
   ],
   "source": [
    "arr"
   ]
  },
  {
   "cell_type": "markdown",
   "id": "93d6f12b-dcbd-477c-9dc0-2e0bc6d2b6df",
   "metadata": {},
   "source": [
    "# Swallow copy operation"
   ]
  },
  {
   "cell_type": "code",
   "execution_count": 27,
   "id": "99659210-c39c-4720-b474-a596efea85fe",
   "metadata": {},
   "outputs": [],
   "source": [
    "a = arr"
   ]
  },
  {
   "cell_type": "code",
   "execution_count": 28,
   "id": "6bd459ae-863e-4378-a50a-74202d00cd3c",
   "metadata": {},
   "outputs": [
    {
     "data": {
      "text/plain": [
       "array([100,   2,   3,   4,   5])"
      ]
     },
     "execution_count": 28,
     "metadata": {},
     "output_type": "execute_result"
    }
   ],
   "source": [
    "a"
   ]
  },
  {
   "cell_type": "code",
   "execution_count": 29,
   "id": "68d18801-698c-45df-b4c2-1e0e793015d6",
   "metadata": {},
   "outputs": [
    {
     "data": {
      "text/plain": [
       "array([100,   2,   3,   4,   5])"
      ]
     },
     "execution_count": 29,
     "metadata": {},
     "output_type": "execute_result"
    }
   ],
   "source": [
    "arr"
   ]
  },
  {
   "cell_type": "code",
   "execution_count": 33,
   "id": "8b3e9d5c-8b18-42b9-a497-8c0d5e19478c",
   "metadata": {},
   "outputs": [],
   "source": [
    "arr[0] = 100  # Change in arr will also change a"
   ]
  },
  {
   "cell_type": "code",
   "execution_count": 34,
   "id": "f47df7b8-98a7-4cdd-9393-90d29d8e9954",
   "metadata": {},
   "outputs": [
    {
     "data": {
      "text/plain": [
       "array([100,   2,   3,   4,   5])"
      ]
     },
     "execution_count": 34,
     "metadata": {},
     "output_type": "execute_result"
    }
   ],
   "source": [
    "arr"
   ]
  },
  {
   "cell_type": "code",
   "execution_count": 35,
   "id": "132db167-969b-47e2-b0fe-eb2b453ecaba",
   "metadata": {},
   "outputs": [
    {
     "data": {
      "text/plain": [
       "array([100,   2,   3,   4,   5])"
      ]
     },
     "execution_count": 35,
     "metadata": {},
     "output_type": "execute_result"
    }
   ],
   "source": [
    "a"
   ]
  },
  {
   "cell_type": "code",
   "execution_count": 36,
   "id": "fb8eff4f-62da-4711-9b0c-bf02acb87f3f",
   "metadata": {},
   "outputs": [],
   "source": [
    "b = np.copy(arr)"
   ]
  },
  {
   "cell_type": "code",
   "execution_count": 37,
   "id": "3e7769a6-ff46-4a8c-b2ec-fc6d522581b6",
   "metadata": {},
   "outputs": [
    {
     "data": {
      "text/plain": [
       "array([100,   2,   3,   4,   5])"
      ]
     },
     "execution_count": 37,
     "metadata": {},
     "output_type": "execute_result"
    }
   ],
   "source": [
    "b"
   ]
  },
  {
   "cell_type": "code",
   "execution_count": 38,
   "id": "745fb0b7-0f45-4e5d-8f43-4890f0c7dbed",
   "metadata": {},
   "outputs": [],
   "source": [
    "# If we made chage in b it will not change arr\n",
    "\n",
    "b[0] = 500"
   ]
  },
  {
   "cell_type": "code",
   "execution_count": 39,
   "id": "c8898fe1-f303-4a47-8364-ae320a914f2c",
   "metadata": {},
   "outputs": [
    {
     "data": {
      "text/plain": [
       "array([100,   2,   3,   4,   5])"
      ]
     },
     "execution_count": 39,
     "metadata": {},
     "output_type": "execute_result"
    }
   ],
   "source": [
    "arr"
   ]
  },
  {
   "cell_type": "code",
   "execution_count": 42,
   "id": "1087e6c0-f3cf-488e-bc50-78ea7fea9311",
   "metadata": {},
   "outputs": [
    {
     "data": {
      "text/plain": [
       "array([[ True, False, False],\n",
       "       [False,  True, False],\n",
       "       [False, False,  True]])"
      ]
     },
     "execution_count": 42,
     "metadata": {},
     "output_type": "execute_result"
    }
   ],
   "source": [
    "np.fromfunction(lambda i,j : i==j, (3,3))  # 3,3 is shape we have give"
   ]
  },
  {
   "cell_type": "code",
   "execution_count": 43,
   "id": "1316bafd-c753-4660-934e-504c17bfe94b",
   "metadata": {},
   "outputs": [
    {
     "data": {
      "text/plain": [
       "array([[0., 0., 0.],\n",
       "       [0., 1., 2.],\n",
       "       [0., 2., 4.]])"
      ]
     },
     "execution_count": 43,
     "metadata": {},
     "output_type": "execute_result"
    }
   ],
   "source": [
    "np.fromfunction(lambda i,j : i*j, (3,3))"
   ]
  },
  {
   "cell_type": "code",
   "execution_count": 44,
   "id": "b24fa9c6-6700-48a7-8041-226f1f51c760",
   "metadata": {},
   "outputs": [
    {
     "data": {
      "text/plain": [
       "[0, 1, 4, 9, 16]"
      ]
     },
     "execution_count": 44,
     "metadata": {},
     "output_type": "execute_result"
    }
   ],
   "source": [
    "list(i*i for i in range(5))"
   ]
  },
  {
   "cell_type": "code",
   "execution_count": 45,
   "id": "27b0819c-e78f-493b-bdf0-64bb19f2f869",
   "metadata": {},
   "outputs": [],
   "source": [
    "iterable = (i*i for i in range(5))"
   ]
  },
  {
   "cell_type": "code",
   "execution_count": 47,
   "id": "b919e49e-d348-4be8-92b0-febc952aa6b4",
   "metadata": {},
   "outputs": [
    {
     "data": {
      "text/plain": [
       "array([ 0.,  1.,  4.,  9., 16.])"
      ]
     },
     "execution_count": 47,
     "metadata": {},
     "output_type": "execute_result"
    }
   ],
   "source": [
    "np.fromiter(iterable, float)"
   ]
  },
  {
   "cell_type": "code",
   "execution_count": 48,
   "id": "574d69de-a448-4ab7-9fca-b63ba1d4c1f6",
   "metadata": {},
   "outputs": [
    {
     "data": {
      "text/plain": [
       "array([23., 45., 56.])"
      ]
     },
     "execution_count": 48,
     "metadata": {},
     "output_type": "execute_result"
    }
   ],
   "source": [
    "np.fromstring('23 45 56', sep = ' ')"
   ]
  },
  {
   "cell_type": "code",
   "execution_count": 49,
   "id": "277381c8-1049-418b-86ee-1f2eb198832a",
   "metadata": {},
   "outputs": [
    {
     "data": {
      "text/plain": [
       "array([23., 45., 56.])"
      ]
     },
     "execution_count": 49,
     "metadata": {},
     "output_type": "execute_result"
    }
   ],
   "source": [
    "np.fromstring('23,45,56', sep = ',')"
   ]
  },
  {
   "cell_type": "markdown",
   "id": "b2c4d283-be82-440b-a5d8-d7edaa817a35",
   "metadata": {},
   "source": [
    "# Numpy Functions"
   ]
  },
  {
   "cell_type": "code",
   "execution_count": 50,
   "id": "2f9e4e6f-e16e-4f20-b987-23375fafa1ed",
   "metadata": {},
   "outputs": [
    {
     "data": {
      "text/plain": [
       "array([100,   2,   3,   4,   5])"
      ]
     },
     "execution_count": 50,
     "metadata": {},
     "output_type": "execute_result"
    }
   ],
   "source": [
    "arr"
   ]
  },
  {
   "cell_type": "code",
   "execution_count": 51,
   "id": "cc91f70b-7750-4117-a5bd-4c0e074388c8",
   "metadata": {},
   "outputs": [
    {
     "data": {
      "text/plain": [
       "array([[1, 2, 3],\n",
       "       [4, 5, 6]])"
      ]
     },
     "execution_count": 51,
     "metadata": {},
     "output_type": "execute_result"
    }
   ],
   "source": [
    "arr1"
   ]
  },
  {
   "cell_type": "code",
   "execution_count": 52,
   "id": "85ddfdab-be2d-44d4-a04b-264819c75222",
   "metadata": {},
   "outputs": [
    {
     "data": {
      "text/plain": [
       "1"
      ]
     },
     "execution_count": 52,
     "metadata": {},
     "output_type": "execute_result"
    }
   ],
   "source": [
    "arr.ndim"
   ]
  },
  {
   "cell_type": "code",
   "execution_count": 53,
   "id": "7533f86c-7e66-4959-8c6e-95a162f7846a",
   "metadata": {},
   "outputs": [
    {
     "data": {
      "text/plain": [
       "5"
      ]
     },
     "execution_count": 53,
     "metadata": {},
     "output_type": "execute_result"
    }
   ],
   "source": [
    "arr.size"
   ]
  },
  {
   "cell_type": "code",
   "execution_count": 54,
   "id": "2b58a095-70f3-416e-88bd-eaba5d01b8f4",
   "metadata": {},
   "outputs": [
    {
     "data": {
      "text/plain": [
       "(5,)"
      ]
     },
     "execution_count": 54,
     "metadata": {},
     "output_type": "execute_result"
    }
   ],
   "source": [
    "arr.shape"
   ]
  },
  {
   "cell_type": "code",
   "execution_count": 55,
   "id": "6d9c3c41-e6f4-403f-891d-0094a872f3b9",
   "metadata": {},
   "outputs": [
    {
     "data": {
      "text/plain": [
       "(2, 3)"
      ]
     },
     "execution_count": 55,
     "metadata": {},
     "output_type": "execute_result"
    }
   ],
   "source": [
    "arr1.shape"
   ]
  },
  {
   "cell_type": "code",
   "execution_count": 56,
   "id": "fae97cdf-1e18-48a9-89d5-033d594a6ada",
   "metadata": {},
   "outputs": [
    {
     "data": {
      "text/plain": [
       "dtype('int64')"
      ]
     },
     "execution_count": 56,
     "metadata": {},
     "output_type": "execute_result"
    }
   ],
   "source": [
    "arr.dtype"
   ]
  },
  {
   "cell_type": "code",
   "execution_count": null,
   "id": "3bae05d9-a2c8-4a81-b8a4-3d4ae6c02799",
   "metadata": {},
   "outputs": [],
   "source": []
  }
 ],
 "metadata": {
  "kernelspec": {
   "display_name": "Python 3 (ipykernel)",
   "language": "python",
   "name": "python3"
  },
  "language_info": {
   "codemirror_mode": {
    "name": "ipython",
    "version": 3
   },
   "file_extension": ".py",
   "mimetype": "text/x-python",
   "name": "python",
   "nbconvert_exporter": "python",
   "pygments_lexer": "ipython3",
   "version": "3.10.8"
  }
 },
 "nbformat": 4,
 "nbformat_minor": 5
}
